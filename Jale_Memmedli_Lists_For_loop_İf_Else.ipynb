{
  "nbformat": 4,
  "nbformat_minor": 0,
  "metadata": {
    "colab": {
      "provenance": []
    },
    "kernelspec": {
      "name": "python3",
      "display_name": "Python 3"
    },
    "language_info": {
      "name": "python"
    }
  },
  "cells": [
    {
      "cell_type": "markdown",
      "source": [
        "# Lists:For Loop and İf Else\n",
        "1. Write a Python program that takes three numbers as input and prints the largest number.\n",
        "\n",
        "2. Write a Python program that create a list of numbers and prints the sum of the elements.\n",
        "\n",
        "3. Write a Python program that create a list of integers and counts the number of even and odd numbers.\n",
        "\n",
        "\n",
        "4. Write a Python program that create a list of numbers (elements = [1, 2, 3, 4, 5])  and prints the reversed list in opposite of the elements in the original list.\n",
        "\n",
        "```\n",
        "Input:\n",
        "[1, 2, 3, 4, 5]\n",
        "Output:\n",
        "[-5, -4, -3, -2, -1]\n",
        "\n",
        "```\n",
        "\n",
        "5. Write a Python program that create a list of numbers and prints the average of the elements.\n",
        "\n",
        "```\n",
        "Input:\n",
        "[1, 2, 3, 4]\n",
        "Average of list elements: 2.5\n",
        "```\n",
        "\n",
        "6. Write a Python program that takes a string as input and counts the number of vowels.\n",
        "\n",
        "```\n",
        "Input:\n",
        "Saida\n",
        "Counts the number of vowels: 3\n",
        "```\n",
        "7. write python code that removes duplicate elements from the list element = [1, 2, 3, 3, 2].\n",
        "```\n",
        "Input:\n",
        "[1, 2, 3, 3, 2]\n",
        "Output:\n",
        "[1, 2, 3]\n",
        "```\n",
        "\n",
        "8. Write a Python program that create a list of numbers and takes a constant as input, and prints a new list where each element is multiplied by the constant..\n",
        "```\n",
        "Input list elements:\n",
        "[1, 2, 3, 3, 2]\n",
        "Constant elements:\n",
        "2\n",
        "Output list:\n",
        "[2, 4, 6, 6, 4]\n",
        "```\n",
        "\n",
        "9. Write a Python program that create a list of numbers and prints only the even numbers.\n"
      ],
      "metadata": {
        "id": "hdSFVbFZMhQN"
      }
    },
    {
      "cell_type": "code",
      "source": [
        "# 1.Write a Python program that takes three numbers as input and prints the largest number.\n",
        "num1 = int(input(\"Enter first number: \"))\n",
        "num2 = int(input(\"Enter second number: \"))\n",
        "num3 = int(input(\"Enter third number: \"))\n",
        "max = num1\n",
        "if num2 > max:\n",
        "  max = num2\n",
        "if num3 > max:\n",
        "  max = num3\n",
        "print(f\"Max num: {max}\")"
      ],
      "metadata": {
        "id": "WMLoSXOIbLcc",
        "colab": {
          "base_uri": "https://localhost:8080/"
        },
        "outputId": "afed9566-ac30-44df-ab46-248e06dec693"
      },
      "execution_count": null,
      "outputs": [
        {
          "output_type": "stream",
          "name": "stdout",
          "text": [
            "Enter first number: -1\n",
            "Enter second number: -2\n",
            "Enter third number: -3\n",
            "Max num: -1\n"
          ]
        }
      ]
    },
    {
      "cell_type": "code",
      "source": [
        "# 2.Write a Python program that create a list of numbers and prints the sum of the elements.\n",
        "num_list = [1, 2, 3, 4, 5]\n",
        "sum = 0\n",
        "for i in num_list:\n",
        "  sum += i\n",
        "print(f\"Sum of the list element: {sum}\")"
      ],
      "metadata": {
        "colab": {
          "base_uri": "https://localhost:8080/"
        },
        "id": "w7PQ_2zY3ivF",
        "outputId": "ef71a350-0291-466b-ecba-e01a64843634"
      },
      "execution_count": null,
      "outputs": [
        {
          "output_type": "stream",
          "name": "stdout",
          "text": [
            "Sum of the list element: 15\n"
          ]
        }
      ]
    },
    {
      "cell_type": "code",
      "source": [
        "# 3.Write a Python program that create a list of integers and counts the number of even and odd numbers.\n",
        "num_list = [1, 2, 3, 4, 5, 6, 7]\n",
        "cnt_odd = 0\n",
        "cnt_even = 0\n",
        "for i in num_list:\n",
        "  if i % 2 == 0:\n",
        "    cnt_even += 1\n",
        "  else:\n",
        "    cnt_odd += 1\n",
        "print(f\"Count of even numbers are: {cnt_even}\")\n",
        "print(f\"Count of odd numbers are: {cnt_odd}\")"
      ],
      "metadata": {
        "colab": {
          "base_uri": "https://localhost:8080/"
        },
        "id": "Nla6PHLk4QTc",
        "outputId": "79899146-a0eb-4aa5-8be7-de6b6fc8a722"
      },
      "execution_count": null,
      "outputs": [
        {
          "output_type": "stream",
          "name": "stdout",
          "text": [
            "Count of even numbers are: 3\n",
            "Count of odd numbers are: 4\n"
          ]
        }
      ]
    },
    {
      "cell_type": "code",
      "source": [
        "# 4.Write a Python program that create a list of numbers (elements = [1, 2, 3, 4, 5]) and prints the reversed list in opposite of the elements in the original list.\n",
        "num_list = [1, 2, 3, 4, 5]\n",
        "num_list.sort(reverse=True)\n",
        "result = [-1 * num for num in num_list]\n",
        "print(result)"
      ],
      "metadata": {
        "colab": {
          "base_uri": "https://localhost:8080/"
        },
        "id": "7S92WnQ35UZj",
        "outputId": "d85f9eaf-cab1-452d-b96c-82e212da3835"
      },
      "execution_count": null,
      "outputs": [
        {
          "output_type": "stream",
          "name": "stdout",
          "text": [
            "[-5, -4, -3, -2, -1]\n"
          ]
        }
      ]
    },
    {
      "cell_type": "code",
      "source": [
        "# 5. Write a Python program that create a list of numbers and prints the average of the elements.\n",
        "num_list = [1, 2, 3, 4]\n",
        "sum = 0\n",
        "count = 0\n",
        "for num in num_list:\n",
        "  sum += num\n",
        "  count += 1\n",
        "print(f\"Average of list elements: {sum / count}\")"
      ],
      "metadata": {
        "colab": {
          "base_uri": "https://localhost:8080/"
        },
        "id": "Uy9DXwle7GvO",
        "outputId": "f0deec04-f185-4b3c-def1-c4739b3b64b3"
      },
      "execution_count": null,
      "outputs": [
        {
          "output_type": "stream",
          "name": "stdout",
          "text": [
            "Average of list elements: 2.5\n"
          ]
        }
      ]
    },
    {
      "cell_type": "code",
      "source": [
        "# 7.write python code that removes duplicate elements from the list element = [1, 2, 3, 3, 2].\n",
        "\n",
        "num_list = [1, 2, 3, 3, 2]\n",
        "my_list = list(set(num_list))\n",
        "print(my_list)"
      ],
      "metadata": {
        "colab": {
          "base_uri": "https://localhost:8080/"
        },
        "id": "NDeiPcHICCvI",
        "outputId": "4c83fd8b-b22e-47ac-ec23-43fa7525335a"
      },
      "execution_count": null,
      "outputs": [
        {
          "output_type": "stream",
          "name": "stdout",
          "text": [
            "[1, 2, 3]\n"
          ]
        }
      ]
    },
    {
      "cell_type": "code",
      "source": [
        "# 8. Write a Python program that create a list of numbers and takes a constant as input, and prints a new list where each element is multiplied by the constant..\n",
        "const = int(input(\"Constant: \"))\n",
        "num_list = [1, 2, 3, 3, 2]\n",
        "new_list = [num * const for num in num_list]\n",
        "print(f\"New List:{new_list}\")"
      ],
      "metadata": {
        "colab": {
          "base_uri": "https://localhost:8080/",
          "height": 211
        },
        "id": "XEEvUL7UC44B",
        "outputId": "2ab9007c-049e-4734-c056-47b280bfdf1f"
      },
      "execution_count": null,
      "outputs": [
        {
          "output_type": "error",
          "ename": "TypeError",
          "evalue": "'str' object is not callable",
          "traceback": [
            "\u001b[0;31m---------------------------------------------------------------------------\u001b[0m",
            "\u001b[0;31mTypeError\u001b[0m                                 Traceback (most recent call last)",
            "\u001b[0;32m<ipython-input-37-c0e7dfa66550>\u001b[0m in \u001b[0;36m<cell line: 2>\u001b[0;34m()\u001b[0m\n\u001b[1;32m      1\u001b[0m \u001b[0;31m# 8. Write a Python program that create a list of numbers and takes a constant as input, and prints a new list where each element is multiplied by the constant..\u001b[0m\u001b[0;34m\u001b[0m\u001b[0;34m\u001b[0m\u001b[0m\n\u001b[0;32m----> 2\u001b[0;31m \u001b[0mconst\u001b[0m \u001b[0;34m=\u001b[0m \u001b[0mint\u001b[0m\u001b[0;34m(\u001b[0m\u001b[0minput\u001b[0m\u001b[0;34m(\u001b[0m\u001b[0;34m\"Constant: \"\u001b[0m\u001b[0;34m)\u001b[0m\u001b[0;34m)\u001b[0m\u001b[0;34m\u001b[0m\u001b[0;34m\u001b[0m\u001b[0m\n\u001b[0m\u001b[1;32m      3\u001b[0m \u001b[0mnum_list\u001b[0m \u001b[0;34m=\u001b[0m \u001b[0;34m[\u001b[0m\u001b[0;36m1\u001b[0m\u001b[0;34m,\u001b[0m \u001b[0;36m2\u001b[0m\u001b[0;34m,\u001b[0m \u001b[0;36m3\u001b[0m\u001b[0;34m,\u001b[0m \u001b[0;36m3\u001b[0m\u001b[0;34m,\u001b[0m \u001b[0;36m2\u001b[0m\u001b[0;34m]\u001b[0m\u001b[0;34m\u001b[0m\u001b[0;34m\u001b[0m\u001b[0m\n\u001b[1;32m      4\u001b[0m \u001b[0mnew_list\u001b[0m \u001b[0;34m=\u001b[0m \u001b[0;34m[\u001b[0m\u001b[0mnum\u001b[0m \u001b[0;34m*\u001b[0m \u001b[0mconst\u001b[0m \u001b[0;32mfor\u001b[0m \u001b[0mnum\u001b[0m \u001b[0;32min\u001b[0m \u001b[0mnum_list\u001b[0m\u001b[0;34m]\u001b[0m\u001b[0;34m\u001b[0m\u001b[0;34m\u001b[0m\u001b[0m\n\u001b[1;32m      5\u001b[0m \u001b[0mprint\u001b[0m\u001b[0;34m(\u001b[0m\u001b[0;34mf\"New List:{new_list}\"\u001b[0m\u001b[0;34m)\u001b[0m\u001b[0;34m\u001b[0m\u001b[0;34m\u001b[0m\u001b[0m\n",
            "\u001b[0;31mTypeError\u001b[0m: 'str' object is not callable"
          ]
        }
      ]
    }
  ]
}