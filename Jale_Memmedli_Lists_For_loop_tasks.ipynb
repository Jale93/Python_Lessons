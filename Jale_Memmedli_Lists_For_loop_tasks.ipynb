{
  "nbformat": 4,
  "nbformat_minor": 0,
  "metadata": {
    "colab": {
      "provenance": []
    },
    "kernelspec": {
      "name": "python3",
      "display_name": "Python 3"
    },
    "language_info": {
      "name": "python"
    }
  },
  "cells": [
    {
      "cell_type": "markdown",
      "source": [
        "# Lists:For Loop\n",
        "1. Convert a list of characters into a string. For example,\n",
        "\n",
        "\n",
        "```\n",
        "['a', 'b', 'c', 'd'] -> \"abcd\"\n",
        "```\n",
        "\n",
        "2. Calculate the area of a circle using its radius. **Get input from user** (pi = 3.14)\n",
        "\n",
        "3. Write a Python program that takes three numbers as input and prints the largest number. **Get Input from user.**\n",
        "\n",
        "```\n",
        "Enter first number:\n",
        "2\n",
        "Enter second number:\n",
        "6\n",
        "Enter third number:\n",
        "8\n",
        "Output: 862\n",
        "```\n",
        "\n",
        "4. Write a Python program that takes a list of integers and creates a new list containing the squares of each integer in the original list.\n",
        "\n",
        "```\n",
        "Input:\n",
        "[1, 2, 3, 4, 5]\n",
        "Output:\n",
        "[1, 4, 9, 16, 25]\n",
        "\n",
        "```\n",
        "\n",
        "5. Write a Python program that creates a new list where each element is the cumulative sum of the elements from the original list.\n",
        "\n",
        "```\n",
        "Input:\n",
        "[1, 2, 3, 4]\n",
        "Output:\n",
        "[1, 3, 6, 10]\n",
        "\n",
        "```"
      ],
      "metadata": {
        "id": "hdSFVbFZMhQN"
      }
    },
    {
      "cell_type": "code",
      "source": [
        "# 1.Convert a list of characters into a string. For example,\n",
        "char_list = ['a', 'b', 'c', 'd']\n",
        "str = ''\n",
        "for i in char_list:\n",
        "  str+=i\n",
        "print(str)"
      ],
      "metadata": {
        "colab": {
          "base_uri": "https://localhost:8080/"
        },
        "id": "zEeBuBvS3_K-",
        "outputId": "7a5b4755-d1ca-42fc-99e1-fd5e1587485a"
      },
      "execution_count": null,
      "outputs": [
        {
          "output_type": "stream",
          "name": "stdout",
          "text": [
            "abcd\n"
          ]
        }
      ]
    },
    {
      "cell_type": "code",
      "source": [
        "# 2. Calculate the area of a circle using its radius. **Get input from user** (pi = 3.14)\n",
        "radius = int(input(\"Enter circle radius: \"))\n",
        "pi = 3.14\n",
        "print(pi*radius*radius)"
      ],
      "metadata": {
        "colab": {
          "base_uri": "https://localhost:8080/"
        },
        "id": "-38DCjgy3_tV",
        "outputId": "a8918b5d-1417-497b-c2b0-e1753a850e0b"
      },
      "execution_count": null,
      "outputs": [
        {
          "output_type": "stream",
          "name": "stdout",
          "text": [
            "Enter circle radius: 10\n",
            "314.0\n"
          ]
        }
      ]
    },
    {
      "cell_type": "code",
      "source": [
        "# 3.Write a Python program that takes three numbers as input and prints the largest number. Get Input from user.\n",
        "num1 = int(input(\"Enter first number:\"))\n",
        "num2 = int(input(\"Enter second number:\"))\n",
        "num3 = int(input(\"Enter third number:\"))\n",
        "num_list = []\n",
        "largest_num = ''\n",
        "num_list.append(num1)\n",
        "num_list.append(num2)\n",
        "num_list.append(num3)\n",
        "num_list.sort(reverse = True)\n",
        "for i in num_list:\n",
        "  largest_num += str(i)\n",
        "print(largest_num)\n"
      ],
      "metadata": {
        "colab": {
          "base_uri": "https://localhost:8080/"
        },
        "id": "CmXAjPn544Jo",
        "outputId": "b0fb8730-d7ec-4ff5-ae42-ad74f1121832"
      },
      "execution_count": null,
      "outputs": [
        {
          "output_type": "stream",
          "name": "stdout",
          "text": [
            "Enter first number:1\n",
            "Enter second number:3\n",
            "Enter third number:2\n",
            "321\n"
          ]
        }
      ]
    },
    {
      "cell_type": "code",
      "source": [
        "# 4.Write a Python program that takes a list of integers and creates a new list containing the squares of each integer in the original list.\n",
        "integers = [1, 2, 3, 4,5]\n",
        "squares = [i * i for i in integers]\n",
        "print(squares)"
      ],
      "metadata": {
        "colab": {
          "base_uri": "https://localhost:8080/"
        },
        "id": "Mkua4DiO5s2Z",
        "outputId": "de8e78b1-8fb6-4227-cb71-e94bba1c663e"
      },
      "execution_count": null,
      "outputs": [
        {
          "output_type": "stream",
          "name": "stdout",
          "text": [
            "[1, 4, 9, 16, 25]\n"
          ]
        }
      ]
    },
    {
      "cell_type": "code",
      "source": [
        "# 5.Write a Python program that creates a new list where each element is the cumulative sum of the elements from the original list.\n",
        "original_list = [1, 2, 3, 4]\n",
        "new_list = []\n",
        "sum = 0\n",
        "for i in original_list:\n",
        "  sum+=i\n",
        "  new_list.append(sum)\n",
        "print(new_list)"
      ],
      "metadata": {
        "colab": {
          "base_uri": "https://localhost:8080/"
        },
        "id": "jF_hwIIu6RPB",
        "outputId": "45cba216-9a5f-4e3c-9ac4-0ce94f24af9c"
      },
      "execution_count": null,
      "outputs": [
        {
          "output_type": "stream",
          "name": "stdout",
          "text": [
            "[1, 3, 6, 10]\n"
          ]
        }
      ]
    }
  ]
}