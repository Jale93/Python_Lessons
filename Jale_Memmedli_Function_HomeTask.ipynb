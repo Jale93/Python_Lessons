{
  "nbformat": 4,
  "nbformat_minor": 0,
  "metadata": {
    "colab": {
      "provenance": []
    },
    "kernelspec": {
      "name": "python3",
      "display_name": "Python 3"
    },
    "language_info": {
      "name": "python"
    }
  },
  "cells": [
    {
      "cell_type": "markdown",
      "source": [
        "1) Write a function is_even(n) that returns True if the number is even, otherwise False.\n",
        "\n",
        "2) Write a function is_prime(n) that checks if a number is prime. (*A prime number is a natural number greater than 1 that has no positive divisors other than 1 and itself. In other words, a prime number is only divisible by 1 and itself without leaving a remainder. Examples of prime numbers include 2, 3, 5, 7, 11, 13, 17, and so on.*)\n",
        "\n",
        "3) Write a  Python function to multiply all the numbers in a list.\n",
        "\n",
        "\n",
        "```\n",
        "Sample List : (8, 2, 3, -1, 7)\n",
        "Expected Output : -336\n",
        "```\n",
        "\n",
        "4) Write a Python function that accepts a string and counts the number of upper and lower case letters.\n",
        "\n",
        "```\n",
        "Sample String : 'The quick Brow Fox'\n",
        "Expected Output :\n",
        "No. of Upper case characters : 3\n",
        "No. of Lower case Characters : 12\n",
        "```\n",
        "\n",
        "5) Write a  Python function to create and print a list where the values are the squares of numbers between 1 and 30 (both included).\n",
        "\n",
        "6) Write a function to check if a given number is an Armstrong number or not.\n",
        "\n",
        "7) Write a function that calculates the sum of digits of a given number.\n",
        "\n",
        "8) Write a function that finds the number of divisors of a given number.\n",
        "\n",
        "9) Write a function called fuel_cost that takes a distance as a required argument, km (default 50 km) and fuel cost (default $1 a litre) as optional arguments. The function should return the cost in dollars.\n",
        "\n",
        "10) Write a function called hcf (ƏBOB) that takes 2 integer values and returns the highest common factor of the numbers.\n",
        "\n"
      ],
      "metadata": {
        "id": "Bk0TIJb3ERrI"
      }
    },
    {
      "cell_type": "code",
      "source": [
        "# 1) Write a function is_even(n) that returns True if the number is even, otherwise False.\n",
        "\n",
        "def is_even(num):\n",
        "  if num % 2 == 0:\n",
        "    return True\n",
        "  else:\n",
        "    return False\n",
        "\n",
        "num = int(input(\"Please enter your number: \"))\n",
        "is_even(num)"
      ],
      "metadata": {
        "colab": {
          "base_uri": "https://localhost:8080/"
        },
        "id": "mgiYeIdNdstS",
        "outputId": "3b7843c4-cac2-41a9-a3db-9c5dd93dbea0"
      },
      "execution_count": 1,
      "outputs": [
        {
          "name": "stdout",
          "output_type": "stream",
          "text": [
            "Please enter your number: 10\n"
          ]
        },
        {
          "output_type": "execute_result",
          "data": {
            "text/plain": [
              "True"
            ]
          },
          "metadata": {},
          "execution_count": 1
        }
      ]
    },
    {
      "cell_type": "code",
      "source": [
        "# 2) Write a function is_prime(n) that checks if a number is prime.\n",
        "# A prime number is a natural number greater than 1 that has no positive divisors\n",
        "#  other than 1 and itself.\n",
        "#  In other words, a prime number is only divisible by 1\n",
        "# and itself without leaving a remainder. Examples of prime numbers include 2, 3, 5, 7, 11, 13, 17, and so on.)\n",
        "\n",
        "def is_prime(num):\n",
        "  if num > 1:\n",
        "    if num == 2:\n",
        "      return True\n",
        "    else:\n",
        "      for i in range(2, num):\n",
        "        if (num % i) == 0:\n",
        "          return False\n",
        "      return True\n",
        "  else:\n",
        "    return False\n",
        "\n",
        "\n",
        "num = int(input(\"Please enter your number: \"))\n",
        "print(is_prime(num))"
      ],
      "metadata": {
        "colab": {
          "base_uri": "https://localhost:8080/"
        },
        "id": "h6jjKgr6eOgE",
        "outputId": "b8b1e6ba-aea3-43b7-f196-36835fdbea69"
      },
      "execution_count": 33,
      "outputs": [
        {
          "output_type": "stream",
          "name": "stdout",
          "text": [
            "Please enter your number: 5\n",
            "True\n"
          ]
        }
      ]
    },
    {
      "cell_type": "code",
      "source": [
        "# 3) Write a Python function to multiply all the numbers in a list.\n",
        "\n",
        "def multiply_list(num_list):\n",
        "  result = 1\n",
        "  for num in num_list:\n",
        "    result *= num\n",
        "  return result\n",
        "\n",
        "numbers = [8, 2, 3, -1, 7]\n",
        "print(multiply_list(numbers))"
      ],
      "metadata": {
        "colab": {
          "base_uri": "https://localhost:8080/"
        },
        "id": "WfIKaWiOfMC7",
        "outputId": "14a4e152-d1b6-4828-e0ec-e02a8e696810"
      },
      "execution_count": 34,
      "outputs": [
        {
          "output_type": "stream",
          "name": "stdout",
          "text": [
            "-336\n"
          ]
        }
      ]
    },
    {
      "cell_type": "code",
      "source": [
        "# 4) Write a Python function that accepts a string and counts the number of upper and lower case letters.\n",
        "\n",
        "def count_letters(string):\n",
        "  upper_count = 0\n",
        "  lower_count = 0\n",
        "  for char in string:\n",
        "    if char.isupper():\n",
        "      upper_count += 1\n",
        "    elif char.islower():\n",
        "      lower_count += 1\n",
        "  return upper_count, lower_count\n",
        "\n",
        "\n",
        "string = input(\"Please enter your string: \")\n",
        "upper, lower = count_letters(string)\n",
        "print(f\"No. of Upper case characters : {upper}\")\n",
        "print(f\"No. of Lower case Characters : {lower}\")"
      ],
      "metadata": {
        "colab": {
          "base_uri": "https://localhost:8080/"
        },
        "id": "buTB9tlf11mo",
        "outputId": "8e0efd71-6afd-4264-9c5f-3185211ae419"
      },
      "execution_count": 37,
      "outputs": [
        {
          "output_type": "stream",
          "name": "stdout",
          "text": [
            "Please enter your string: The quick Brow Fox\n",
            "No. of Upper case characters : 3\n",
            "No. of Lower case Characters : 12\n"
          ]
        }
      ]
    },
    {
      "cell_type": "code",
      "source": [
        "# 5) Write a Python function to create and print a list where the values are the squares of numbers between 1 and 30 (both included).\n",
        "\n",
        "def create_square_list():\n",
        "  square_list = []\n",
        "  for i in range(1, 31):\n",
        "    square_list.append(i**2)\n",
        "  return square_list\n",
        "\n",
        "create_square_list()"
      ],
      "metadata": {
        "colab": {
          "base_uri": "https://localhost:8080/"
        },
        "id": "jMvJrtww2OJg",
        "outputId": "18b9a012-6dfd-46d6-c3e2-95bdf3396e37"
      },
      "execution_count": 38,
      "outputs": [
        {
          "output_type": "execute_result",
          "data": {
            "text/plain": [
              "[1,\n",
              " 4,\n",
              " 9,\n",
              " 16,\n",
              " 25,\n",
              " 36,\n",
              " 49,\n",
              " 64,\n",
              " 81,\n",
              " 100,\n",
              " 121,\n",
              " 144,\n",
              " 169,\n",
              " 196,\n",
              " 225,\n",
              " 256,\n",
              " 289,\n",
              " 324,\n",
              " 361,\n",
              " 400,\n",
              " 441,\n",
              " 484,\n",
              " 529,\n",
              " 576,\n",
              " 625,\n",
              " 676,\n",
              " 729,\n",
              " 784,\n",
              " 841,\n",
              " 900]"
            ]
          },
          "metadata": {},
          "execution_count": 38
        }
      ]
    },
    {
      "cell_type": "code",
      "source": [
        "# 6) Write a function to check if a given number is an Armstrong number or not.\n",
        "def is_armstrong_num(number):\n",
        "  sum = 0\n",
        "  num = number\n",
        "  while num > 0:\n",
        "    mod = num % 10\n",
        "    sum += (mod**len(str(number)))\n",
        "    num = num // 10\n",
        "  if sum == number:\n",
        "    return True\n",
        "  else:\n",
        "    return False\n",
        "\n",
        "num = int(input(\"Please enter your number: \"))\n",
        "is_armstrong_num(num)"
      ],
      "metadata": {
        "colab": {
          "base_uri": "https://localhost:8080/"
        },
        "id": "2PxGMsEQ3Fi3",
        "outputId": "48d7e597-3fdb-42e0-9d8e-6cefc5647cac"
      },
      "execution_count": 8,
      "outputs": [
        {
          "name": "stdout",
          "output_type": "stream",
          "text": [
            "Please enter your number: 12\n"
          ]
        },
        {
          "output_type": "execute_result",
          "data": {
            "text/plain": [
              "False"
            ]
          },
          "metadata": {},
          "execution_count": 8
        }
      ]
    },
    {
      "cell_type": "code",
      "source": [
        "# 7) Write a function that calculates the sum of digits of a given number.\n",
        "\n",
        "def calculate_sum_of_digits(num):\n",
        "  sum = 0\n",
        "  while num > 0:\n",
        "    mod = num % 10\n",
        "    sum += mod\n",
        "    num = num // 10\n",
        "  return sum\n",
        "\n",
        "num = int(input(\"Please enter your number: \"))\n",
        "calculate_sum_of_digits(num)"
      ],
      "metadata": {
        "colab": {
          "base_uri": "https://localhost:8080/"
        },
        "id": "R-1J-ZY-0Ufs",
        "outputId": "cf505e01-1bb5-415d-cdac-f9b01ccbab39"
      },
      "execution_count": 9,
      "outputs": [
        {
          "name": "stdout",
          "output_type": "stream",
          "text": [
            "Please enter your number: 12345\n"
          ]
        },
        {
          "output_type": "execute_result",
          "data": {
            "text/plain": [
              "15"
            ]
          },
          "metadata": {},
          "execution_count": 9
        }
      ]
    },
    {
      "cell_type": "code",
      "source": [
        "# 8) Write a function that finds the number of divisors of a given number.\n",
        "def find_divisors(num):\n",
        "  count = 0\n",
        "  for i in range(1, num + 1):\n",
        "    if num % i == 0:\n",
        "      # print(i)\n",
        "      count += 1\n",
        "  return count\n",
        "\n",
        "num = int(input(\"Please enter your number: \"))\n",
        "find_divisors(num)"
      ],
      "metadata": {
        "colab": {
          "base_uri": "https://localhost:8080/"
        },
        "id": "bDw0ofQR0pAL",
        "outputId": "d5690453-b8d1-4f4d-a00c-4d9de5f8863b"
      },
      "execution_count": 13,
      "outputs": [
        {
          "name": "stdout",
          "output_type": "stream",
          "text": [
            "Please enter your number: 15\n"
          ]
        },
        {
          "output_type": "execute_result",
          "data": {
            "text/plain": [
              "4"
            ]
          },
          "metadata": {},
          "execution_count": 13
        }
      ]
    },
    {
      "cell_type": "code",
      "source": [
        "# 9) Write a function called fuel_cost that takes a distance as a required argument,\n",
        "# km (default 50 km) and fuel cost (default $1 a litre) as optional arguments.\n",
        "# The function should return the cost in dollars.\n",
        "\n",
        "def fuel_cost(distance=50, fuel_cost=1):\n",
        "  return distance * fuel_cost\n",
        "\n",
        "print(fuel_cost())\n",
        "print(fuel_cost(100,2))\n",
        "print(fuel_cost(distance=30, fuel_cost=2))"
      ],
      "metadata": {
        "colab": {
          "base_uri": "https://localhost:8080/"
        },
        "id": "VNI3QZ6v1Iwv",
        "outputId": "350ba63d-9864-40cb-cad6-0b47d82a3790"
      },
      "execution_count": 17,
      "outputs": [
        {
          "output_type": "stream",
          "name": "stdout",
          "text": [
            "50\n",
            "200\n",
            "60\n"
          ]
        }
      ]
    },
    {
      "cell_type": "code",
      "source": [
        "# 10) Write a function called hcf (ƏBOB) that takes 2 integer values and returns the highest common factor of the numbers.\n",
        "\n",
        "def hcf(num1, num2):\n",
        "  if num1 > num2:\n",
        "    smaller = num2\n",
        "  else:\n",
        "    smaller = num1\n",
        "  for i in range(1, smaller+1):\n",
        "    if(num1 % i == 0) and (num2 % i == 0):\n",
        "      hcf = i\n",
        "  return hcf\n",
        "\n",
        "num1 = int(input(\"Please enter your first number: \"))\n",
        "num2 = int(input(\"Please enter your second number: \"))\n",
        "hcf(num1, num2)"
      ],
      "metadata": {
        "colab": {
          "base_uri": "https://localhost:8080/"
        },
        "id": "8eucGYld5aA5",
        "outputId": "fb2f6f8e-4449-4614-d711-ca8ff5ff78e7"
      },
      "execution_count": 19,
      "outputs": [
        {
          "name": "stdout",
          "output_type": "stream",
          "text": [
            "Please enter your first number: 5\n",
            "Please enter your second number: 11\n"
          ]
        },
        {
          "output_type": "execute_result",
          "data": {
            "text/plain": [
              "1"
            ]
          },
          "metadata": {},
          "execution_count": 19
        }
      ]
    }
  ]
}