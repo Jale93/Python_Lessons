{
  "nbformat": 4,
  "nbformat_minor": 0,
  "metadata": {
    "colab": {
      "provenance": [],
      "toc_visible": true
    },
    "kernelspec": {
      "name": "python3",
      "display_name": "Python 3"
    },
    "language_info": {
      "name": "python"
    }
  },
  "cells": [
    {
      "cell_type": "markdown",
      "source": [
        "**1)** Create a class with names of fruits and add a new fruit, \"fig\", to the end of the list and print the updated list.\n",
        "\n",
        "**2)** Create a list with the ages of the children in the class and print the length of the list.\n",
        "\n",
        "**3)** Insert a new fruit, \"grape\", at the second position in the list and print the updated list.\n",
        "\n",
        "**4)** Remove a specific fruit, \"fig\", from the list using the remove method and print the updated list.\n",
        "\n",
        "**5)** Print the last fruit in the list after sorting it in reverse alphabetical order using the sort method.\n",
        "\n",
        "**6)** Create a copy of the list sorted in alphabetical order without modifying the original list, and print both lists.\n",
        "\n",
        "**7)** Delete the values from the first element up to the fourth element in the list given below\n",
        "\n",
        "zodiac_signs = [\"Aries\", \"Taurus\", \"Gemini\", \"Cancer\", \"Capricorn\"]\n",
        "\n",
        "**8)** Prompt the user to enter a name, then print the second letter of the entered name to the screen.\n",
        "\n",
        "**9)** Create a program that asks the user to enter their name and their age. Print out a message addressed to them that tells them the year that they will turn 100 years old. For example,\n",
        "\n",
        "What is your name? Khalid\n",
        "\n",
        "How old are you? 23\n",
        "\n",
        "Khalid will be 100 years old in the year 2101\n",
        "\n",
        "**10)** Write a Python program that accepts an integer (n) and computes the value of n+nn+nnn. Get Input from user. For example, 5 + 55 + 555 = 615"
      ],
      "metadata": {
        "id": "MRDl-lfx7haM"
      }
    },
    {
      "cell_type": "code",
      "execution_count": null,
      "metadata": {
        "id": "PSvesDe07dxA",
        "colab": {
          "base_uri": "https://localhost:8080/"
        },
        "outputId": "9d7bb30b-8aa2-482b-99ce-54d6ffe06188"
      },
      "outputs": [
        {
          "output_type": "stream",
          "name": "stdout",
          "text": [
            "['apple', 'banana', 'fig']\n"
          ]
        }
      ],
      "source": [
        "# 1)\n",
        "fruits = [\"apple\",\"banana\"]\n",
        "fruits.append(\"fig\")\n",
        "print(fruits)\n",
        "\n"
      ]
    },
    {
      "cell_type": "code",
      "source": [
        "# 2)\n",
        "ages_of_children = [10, 20, 30]\n",
        "print(len(ages_of_children))"
      ],
      "metadata": {
        "colab": {
          "base_uri": "https://localhost:8080/"
        },
        "id": "YNuA9c9oTVdF",
        "outputId": "5a1da387-e131-4cbe-929d-3a910c8c4c15"
      },
      "execution_count": null,
      "outputs": [
        {
          "output_type": "stream",
          "name": "stdout",
          "text": [
            "3\n"
          ]
        }
      ]
    },
    {
      "cell_type": "code",
      "source": [
        "# 3)\n",
        "fruits[1] = \"grape\"\n",
        "print(fruits)"
      ],
      "metadata": {
        "colab": {
          "base_uri": "https://localhost:8080/"
        },
        "id": "X2MEfui8TjE9",
        "outputId": "3cf45a73-069b-4fa1-c2be-e8631afea263"
      },
      "execution_count": null,
      "outputs": [
        {
          "output_type": "stream",
          "name": "stdout",
          "text": [
            "['apple', 'grape', 'fig']\n"
          ]
        }
      ]
    },
    {
      "cell_type": "code",
      "source": [
        "# 4)\n",
        "fruits.remove(\"fig\")\n",
        "print(fruits)"
      ],
      "metadata": {
        "colab": {
          "base_uri": "https://localhost:8080/"
        },
        "id": "RBkCVVlgT3O5",
        "outputId": "bdec88b0-b25a-4aa5-9fed-c1f5824c670d"
      },
      "execution_count": null,
      "outputs": [
        {
          "output_type": "stream",
          "name": "stdout",
          "text": [
            "['apple', 'grape']\n"
          ]
        }
      ]
    },
    {
      "cell_type": "code",
      "source": [
        "# 5)\n",
        "unordered_list = [\"test\", \"age\", \"live\", \"more\"]\n",
        "unordered_list.sort()\n",
        "print(unordered_list[-1])"
      ],
      "metadata": {
        "colab": {
          "base_uri": "https://localhost:8080/"
        },
        "id": "Z_1VS_qUUI7n",
        "outputId": "802e8df7-fd99-4a69-ac96-2962d7defb98"
      },
      "execution_count": null,
      "outputs": [
        {
          "output_type": "stream",
          "name": "stdout",
          "text": [
            "test\n"
          ]
        }
      ]
    },
    {
      "cell_type": "code",
      "source": [
        "# 6)\n",
        "unordered_list = [\"test\", \"age\", \"live\", \"more\"]\n",
        "print(\"Before copy unordered_list:{}\".format(unordered_list))\n",
        "copy_of_list = unordered_list.copy()\n",
        "print(\"After copy copy_of_list:{}\".format(copy_of_list))\n",
        "unordered_list.sort()\n",
        "print(\"After sort unordered_list:{}\".format(unordered_list))\n",
        "print(\"After sort copy_of_list:{}\".format(copy_of_list))\n"
      ],
      "metadata": {
        "colab": {
          "base_uri": "https://localhost:8080/"
        },
        "id": "oppMb157UqvQ",
        "outputId": "55d558b1-c6d6-43d4-c74d-6bd3626e688f"
      },
      "execution_count": null,
      "outputs": [
        {
          "output_type": "stream",
          "name": "stdout",
          "text": [
            "Before copy unordered_list:['test', 'age', 'live', 'more']\n",
            "After copy copy_of_list:['test', 'age', 'live', 'more']\n",
            "After sort unordered_list:['age', 'live', 'more', 'test']\n",
            "After sort copy_of_list:['test', 'age', 'live', 'more']\n"
          ]
        }
      ]
    },
    {
      "cell_type": "code",
      "source": [
        "# 7)\n",
        "zodiac_signs = [\"Aries\", \"Taurus\", \"Gemini\", \"Cancer\", \"Capricorn\"]\n",
        "del zodiac_signs[0:3]\n",
        "print(zodiac_signs)\n"
      ],
      "metadata": {
        "colab": {
          "base_uri": "https://localhost:8080/"
        },
        "id": "WG0z9hncUYpd",
        "outputId": "d0299fdc-fb35-47b8-dda8-2259aeadd74f"
      },
      "execution_count": null,
      "outputs": [
        {
          "output_type": "stream",
          "name": "stdout",
          "text": [
            "['Cancer', 'Capricorn']\n"
          ]
        }
      ]
    },
    {
      "cell_type": "code",
      "source": [
        "# 8)\n",
        "name = input()\n",
        "print(name[1])"
      ],
      "metadata": {
        "colab": {
          "base_uri": "https://localhost:8080/"
        },
        "id": "JTAMLEZxX5Te",
        "outputId": "6feb56f6-7f1c-4abd-a15a-89a549af5da8"
      },
      "execution_count": null,
      "outputs": [
        {
          "output_type": "stream",
          "name": "stdout",
          "text": [
            "Zhala\n",
            "h\n"
          ]
        }
      ]
    },
    {
      "cell_type": "code",
      "source": [
        "# 9)\n",
        "name = input()\n",
        "print(\"what is your name?:\",name)\n",
        "age = int(input())\n",
        "print(\"what is your age?:\",age)\n",
        "year = 2024+(100-age)\n",
        "print(\"{} will be 100 years old in the year {}\".format(name, year))"
      ],
      "metadata": {
        "colab": {
          "base_uri": "https://localhost:8080/"
        },
        "id": "Q55SRSHMYQKQ",
        "outputId": "98fbea47-821c-43fe-f245-d762e6826a23"
      },
      "execution_count": null,
      "outputs": [
        {
          "output_type": "stream",
          "name": "stdout",
          "text": [
            "Khaled\n",
            "what is your name?: Khaled\n",
            "23\n",
            "what is your age?: 23\n",
            "Khaled will be 100 years old in the year 2101\n"
          ]
        }
      ]
    },
    {
      "cell_type": "code",
      "source": [
        "# 10)\n",
        "n = int(input())\n",
        "n1 = str(n)\n",
        "n2 = n1 + n1\n",
        "n3 = n1 + n1 + n1\n",
        "result = int(n1) + int(n2) + int(n3)\n",
        "print(\"{}+{}+{}={}\".format(n1, n2, n3,result))"
      ],
      "metadata": {
        "colab": {
          "base_uri": "https://localhost:8080/"
        },
        "id": "8qTzAOroek5E",
        "outputId": "95594507-73bb-451d-bd71-1ea713c506cf"
      },
      "execution_count": null,
      "outputs": [
        {
          "output_type": "stream",
          "name": "stdout",
          "text": [
            "5\n",
            "5+55+555=615\n"
          ]
        }
      ]
    }
  ]
}