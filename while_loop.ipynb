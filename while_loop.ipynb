{
  "nbformat": 4,
  "nbformat_minor": 0,
  "metadata": {
    "colab": {
      "provenance": []
    },
    "kernelspec": {
      "name": "python3",
      "display_name": "Python 3"
    },
    "language_info": {
      "name": "python"
    }
  },
  "cells": [
    {
      "cell_type": "markdown",
      "source": [
        "1) Get the keys from the dictionaries named *sample_dic* as a list\n",
        "```\n",
        "sample_dict = {\n",
        "    'Physics': 82,\n",
        "    'Math': 65,\n",
        "    'history': 75\n",
        "}\n",
        "```\n",
        "\n"
      ],
      "metadata": {
        "id": "t0LHIhxSJLoq"
      }
    },
    {
      "cell_type": "code",
      "source": [
        "sample_dict = {\n",
        "    'Physics': 82,\n",
        "    'Math': 65,\n",
        "    'history': 75\n",
        "}\n",
        "sample_key_list = []\n",
        "for key in sample_dict:\n",
        "  sample_key_list.append(key)\n",
        "print(sample_key_list)"
      ],
      "metadata": {
        "id": "Skx4kJf3Y5PO",
        "outputId": "936c94ab-026f-45cb-94a1-c516e91d64b5",
        "colab": {
          "base_uri": "https://localhost:8080/"
        }
      },
      "execution_count": 2,
      "outputs": [
        {
          "output_type": "stream",
          "name": "stdout",
          "text": [
            "['Physics', 'Math', 'history']\n"
          ]
        }
      ]
    },
    {
      "cell_type": "markdown",
      "source": [
        "2) Get sum of all the values in a dict\n",
        "\n",
        "```\n",
        "#Input:\n",
        "sample_dict = {\n",
        "    'Physics': 82,\n",
        "    'Math': 65,\n",
        "    'history': 75,\n",
        "    'chemistry': 89,\n",
        "    'GK': 50\n",
        "    \n",
        "}\n",
        "\n",
        "#Expected Output: 361\n",
        "\n",
        "```"
      ],
      "metadata": {
        "id": "w5sNggvfKBPs"
      }
    },
    {
      "cell_type": "code",
      "source": [
        "sample_dict = {\n",
        "    'Physics': 82,\n",
        "    'Math': 65,\n",
        "    'history': 75,\n",
        "    'chemistry': 89,\n",
        "    'GK': 50\n",
        "\n",
        "}\n",
        "sum = 0\n",
        "for value in sample_dict.values():\n",
        "  sum += value\n",
        "print(sum)"
      ],
      "metadata": {
        "id": "N72l_eSSZRMX",
        "outputId": "e71b523f-91a8-4760-d45c-fa7e65fbf5dc",
        "colab": {
          "base_uri": "https://localhost:8080/"
        }
      },
      "execution_count": 3,
      "outputs": [
        {
          "output_type": "stream",
          "name": "stdout",
          "text": [
            "361\n"
          ]
        }
      ]
    },
    {
      "cell_type": "markdown",
      "source": [
        "3)Get the key of a minimum value from the following dictionary\n",
        "\n",
        "```\n",
        "#Input:\n",
        "sample_dict = {\n",
        "  'Physics': 82,\n",
        "  'Math': 65,\n",
        "  'history': 75\n",
        "}\n",
        "\n",
        "#Expected Output: Math\n",
        "\n",
        "```"
      ],
      "metadata": {
        "id": "hXoPfj4-JXko"
      }
    },
    {
      "cell_type": "code",
      "source": [
        "sample_dict = {\n",
        "  'Physics': 82,\n",
        "  'Math': 65,\n",
        "  'history': 75\n",
        "}\n",
        "min_val = sample_dict['Physics']\n",
        "min_key = 'Physics'\n",
        "for key, value in sample_dict.items():\n",
        "  if value < min_val:\n",
        "    min_val = value\n",
        "    min_key = key\n",
        "print(min_key)"
      ],
      "metadata": {
        "id": "phXSV3O6ZpZv",
        "outputId": "c6274693-bc6f-4830-d8c0-b36548b8c681",
        "colab": {
          "base_uri": "https://localhost:8080/"
        }
      },
      "execution_count": 7,
      "outputs": [
        {
          "output_type": "stream",
          "name": "stdout",
          "text": [
            "Math\n"
          ]
        }
      ]
    },
    {
      "cell_type": "markdown",
      "source": [
        "4) Delete a list of keys from a dictionary\n",
        "```\n",
        "#Inputs:\n",
        "sample_dict = {\n",
        "    \"name\": \"Khalid\",\n",
        "    \"age\": 23,\n",
        "    \"salary\": 1000,\n",
        "    \"city\": \"Baku\"\n",
        "}\n",
        "\n",
        "# Keys to remove\n",
        "keys = [\"name\", \"salary\"]\n",
        "\n",
        "# Expected Output: {'city': 'Baku', 'age': 23}\n",
        "```"
      ],
      "metadata": {
        "id": "CTSGF0hmJgDD"
      }
    },
    {
      "cell_type": "code",
      "source": [
        "sample_dict = {\n",
        "    \"name\": \"Khalid\",\n",
        "    \"age\": 23,\n",
        "    \"salary\": 1000,\n",
        "    \"city\": \"Baku\"\n",
        "}\n",
        "\n",
        "keys = [\"name\", \"salary\"]\n",
        "for key in keys:\n",
        "  if key in sample_dict:\n",
        "    del sample_dict[key]\n",
        "print(sample_dict)"
      ],
      "metadata": {
        "id": "tMXm-VE9alCk",
        "outputId": "6bb9afed-3b17-46d0-a403-8c2525712508",
        "colab": {
          "base_uri": "https://localhost:8080/"
        }
      },
      "execution_count": 9,
      "outputs": [
        {
          "output_type": "stream",
          "name": "stdout",
          "text": [
            "{'age': 23, 'city': 'Baku'}\n"
          ]
        }
      ]
    },
    {
      "cell_type": "markdown",
      "source": [
        "5) Create a dictionary by extracting the keys from a given dictionary\n",
        "\n",
        "```\n",
        "# Inputs:\n",
        "sample_dict = {\n",
        "    \"name\": \"Khalid\",\n",
        "    \"age\": 23,\n",
        "    \"salary\": 1000,\n",
        "    \"city\": \"Baku\"}\n",
        "\n",
        "# Keys to extract\n",
        "keys = [\"name\", \"salary\"]\n",
        "\n",
        "# Expected Output: {'name': 'Khalid', 'salary': 1000}\n",
        "```"
      ],
      "metadata": {
        "id": "keTauTOfJ0RA"
      }
    },
    {
      "cell_type": "code",
      "source": [
        "sample_dict = {\n",
        "    \"name\": \"Khalid\",\n",
        "    \"age\": 23,\n",
        "    \"salary\": 1000,\n",
        "    \"city\": \"Baku\"\n",
        "}\n",
        "\n",
        "keys = [\"name\", \"salary\"]\n",
        "new_dict = {}\n",
        "for key in keys:\n",
        "  if key in sample_dict:\n",
        "    new_dict[key] = sample_dict[key]\n",
        "print(new_dict)"
      ],
      "metadata": {
        "id": "GUtYqaWbcRwU",
        "outputId": "d3f1f63e-54a2-4ffc-c2fc-58a090691c96",
        "colab": {
          "base_uri": "https://localhost:8080/"
        }
      },
      "execution_count": 10,
      "outputs": [
        {
          "output_type": "stream",
          "name": "stdout",
          "text": [
            "{'name': 'Khalid', 'salary': 1000}\n"
          ]
        }
      ]
    },
    {
      "cell_type": "markdown",
      "source": [
        "6) Take 10 integers from keyboard using loop and print their average value\n",
        "on the screen."
      ],
      "metadata": {
        "id": "KW4qi0i5KNQd"
      }
    },
    {
      "cell_type": "code",
      "source": [
        "sum = 0\n",
        "for i in range(10):\n",
        "  num = int(input(f\"Num {i+1}\"))\n",
        "  sum += num\n",
        "print(sum/10)"
      ],
      "metadata": {
        "id": "DtbimHmTck2U",
        "outputId": "1982e53b-bb59-4b6e-c5f0-feb72f5ce954",
        "colab": {
          "base_uri": "https://localhost:8080/"
        }
      },
      "execution_count": 12,
      "outputs": [
        {
          "output_type": "stream",
          "name": "stdout",
          "text": [
            "Num 11\n",
            "Num 22\n",
            "Num 33\n",
            "Num 44\n",
            "Num 55\n",
            "Num 66\n",
            "Num 77\n",
            "Num 88\n",
            "Num 99\n",
            "Num 1010\n",
            "5.5\n"
          ]
        }
      ]
    },
    {
      "cell_type": "markdown",
      "source": [
        "7) Print multiplication table of 24 using loop."
      ],
      "metadata": {
        "id": "yTkI4J3aKOrs"
      }
    },
    {
      "cell_type": "code",
      "source": [
        "for i in range(1, 11):\n",
        "  print(f\"24*{i}={24*i}\")"
      ],
      "metadata": {
        "id": "51LLwIfCdNmX",
        "outputId": "2f77b95e-7047-4e01-c3ab-6b0aa50e66bd",
        "colab": {
          "base_uri": "https://localhost:8080/"
        }
      },
      "execution_count": 13,
      "outputs": [
        {
          "output_type": "stream",
          "name": "stdout",
          "text": [
            "24*1=24\n",
            "24*2=48\n",
            "24*3=72\n",
            "24*4=96\n",
            "24*5=120\n",
            "24*6=144\n",
            "24*7=168\n",
            "24*8=192\n",
            "24*9=216\n",
            "24*10=240\n"
          ]
        }
      ]
    },
    {
      "cell_type": "markdown",
      "source": [
        "8) Factorial of any number n is represented by n! and is equal to 1*2*3*....*(n-1)*n.\n",
        "\n",
        "Write a program to calculate factorial of a number.\n",
        "\n",
        "```\n",
        "4! = 1*2*3*4 = 24\n",
        "3! = 3*2*1 = 6\n",
        "2! = 2*1 = 2\n",
        "\n",
        "Also,\n",
        "1! = 1\n",
        "0! = 1\n",
        "```\n"
      ],
      "metadata": {
        "id": "PpkgIjOEKUU0"
      }
    },
    {
      "cell_type": "code",
      "source": [
        "for i in range(1, 5):\n",
        "  fact = 1\n",
        "  print(f\"{i}!=\",end=\"\")\n",
        "  for j in range(1, i+1):\n",
        "    if j != 1:\n",
        "      print(f\"{j-1}*\", end=\"\")\n",
        "    fact *= j\n",
        "  print(f\"{i} = {fact}\")"
      ],
      "metadata": {
        "id": "xxS4rsfCdmQ2",
        "outputId": "bc1169d4-fa0c-49ac-9a44-ce05a01577a4",
        "colab": {
          "base_uri": "https://localhost:8080/"
        }
      },
      "execution_count": 48,
      "outputs": [
        {
          "output_type": "stream",
          "name": "stdout",
          "text": [
            "1!=1 = 1\n",
            "2!=1*2 = 2\n",
            "3!=1*2*3 = 6\n",
            "4!=1*2*3*4 = 24\n"
          ]
        }
      ]
    },
    {
      "cell_type": "markdown",
      "source": [
        "9) Write a program that calculates the sum of the digits of a given number. Ask the user to input a number"
      ],
      "metadata": {
        "id": "1V-KIxBHKjiU"
      }
    },
    {
      "cell_type": "code",
      "source": [
        "input = int(input(\"Enter a number\"))\n",
        "sum = 0\n",
        "while input > 0:\n",
        "  sum += input % 10\n",
        "  input = input // 10\n",
        "print(sum)"
      ],
      "metadata": {
        "id": "Z2ns5P3YfxZX"
      },
      "execution_count": null,
      "outputs": []
    },
    {
      "cell_type": "markdown",
      "source": [
        "10) Write a Python program that takes a string input from the user and counts the number of characters in the string."
      ],
      "metadata": {
        "id": "cLIPyMzuLLUU"
      }
    },
    {
      "cell_type": "code",
      "execution_count": 23,
      "metadata": {
        "id": "pmqLrrVLJLGs",
        "outputId": "09305c9b-bb86-4e2a-e12e-7de49c9bed0e",
        "colab": {
          "base_uri": "https://localhost:8080/"
        }
      },
      "outputs": [
        {
          "output_type": "stream",
          "name": "stdout",
          "text": [
            "ENter your String: iugvygvk\n",
            "8\n"
          ]
        }
      ],
      "source": [
        "str = input(\"ENter your String: \")\n",
        "count = 0\n",
        "for character in str:\n",
        "  count += 1\n",
        "print(count)"
      ]
    }
  ]
}