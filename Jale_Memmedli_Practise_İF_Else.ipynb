{
  "nbformat": 4,
  "nbformat_minor": 0,
  "metadata": {
    "colab": {
      "provenance": []
    },
    "kernelspec": {
      "name": "python3",
      "display_name": "Python 3"
    },
    "language_info": {
      "name": "python"
    }
  },
  "cells": [
    {
      "cell_type": "markdown",
      "source": [
        "1) Write a program that takes a day of the week as input (e.g., \"Monday\", \"Tuesday\") and prints whether it is a weekday or a weekend."
      ],
      "metadata": {
        "id": "Z9kmhge2flJv"
      }
    },
    {
      "cell_type": "markdown",
      "source": [
        "2) Write a program that classifies the temperature based on the following criteria:\n",
        "If the temperature is below -50°C or above 50°C, classify it as \"Extreme\".\n",
        "\n",
        "If the temperature is between -50°C and -20°C, classify it as \"Very Cold\".\n",
        "\n",
        "If the temperature is between -20°C and 0°C, classify it as \"Cold\".\n",
        "\n",
        "If the temperature is between 0°C and 20°C, classify it as \"Moderate\".\n",
        "\n",
        "If the temperature is between 20°C and 35°C, classify it as \"Warm\".\n",
        "\n",
        "If the temperature is between 35°C and 50°C, classify it as \"Hot\".\n",
        "\n",
        "Additionally, if the temperature is below freezing (0°C), print a warning message for potential frostbite.\n",
        "\n",
        "If the temperature is above 35°C, print a warning message for potential heatstroke."
      ],
      "metadata": {
        "id": "5e3OCcYCfoUC"
      }
    },
    {
      "cell_type": "markdown",
      "source": [
        "3) Write a program that validates a username and password based on the following criteria:\n",
        "The username must be at least 5 characters long.\n",
        "\n",
        "The password must be at least 8 characters long and must contain at least one digit.\n",
        "\n",
        "If both conditions are met, print \"Login successful\".\n",
        "\n",
        "If the username is too short, print \"Username is too short\".\n",
        "\n",
        "If the password is too short or lacks a digit, print \"Password is invalid\"."
      ],
      "metadata": {
        "id": "gr7zi8CogC7R"
      }
    },
    {
      "cell_type": "markdown",
      "source": [
        "4) Write a program that calculates the total price of items after applying discounts based on the following criteria:\n",
        "If the total price is above $500, apply a 10% discount.\n",
        "\n",
        "If the total price is above $1000, apply an additional 5% discount (total 15%).\n",
        "\n",
        "If the total price is below $100, add a 10 dollar shipping fee.\n",
        "\n",
        "Print the final price."
      ],
      "metadata": {
        "id": "divRCLC7gHIy"
      }
    },
    {
      "cell_type": "markdown",
      "source": [
        "5) 5. Write a program that converts a numerical grade (0-100) into a letter grade based on the following criteria:\n",
        "\n",
        "90-100: A\n",
        "\n",
        "80-89: B\n",
        "\n",
        "70-79: C\n",
        "\n",
        "60-69: D\n",
        "\n",
        "Below 60: F\n",
        "\n",
        "If the grade is not within the 0-100 range, print \"Invalid grade\".\n",
        "\n",
        "Print the corresponding letter grade."
      ],
      "metadata": {
        "id": "hS_ikSKbgMTB"
      }
    },
    {
      "cell_type": "markdown",
      "source": [
        "6) 6. Write a program that calculates the price of a movie ticket based on the age of the customer and the day of the week:\n",
        "\n",
        "Children under 12 years old get a 50% discount on weekdays.\n",
        "\n",
        "Seniors (65 years and older) get a 30% discount on weekdays.\n",
        "\n",
        "No discounts are applied on weekends.\n",
        "\n",
        "The base price of a ticket is $15.\n",
        "\n",
        "Print the final ticket price."
      ],
      "metadata": {
        "id": "5xQOuTcggN9w"
      }
    },
    {
      "cell_type": "markdown",
      "source": [
        "7) 7. Write a program that takes a person's age as input and classifies them into one of the following age groups:\n",
        "\n",
        "\"Infant\" (0-1 years)\n",
        "\n",
        "\"Child\" (2-12 years)\n",
        "\n",
        "\"Teenager\" (13-19 years)\n",
        "\n",
        "\"Adult\" (20-64 years)\n",
        "\n",
        "\"Senior\" (65 years and older)"
      ],
      "metadata": {
        "id": "K6Hhm9ANgWbb"
      }
    },
    {
      "cell_type": "code",
      "execution_count": null,
      "metadata": {
        "id": "JcB7p50Mfj81",
        "colab": {
          "base_uri": "https://localhost:8080/"
        },
        "outputId": "1b4a0d1b-7840-477e-a2dd-ab506fc0ee9e"
      },
      "outputs": [
        {
          "output_type": "stream",
          "name": "stdout",
          "text": [
            "Please enter name of the day: Friday\n",
            "It is weekday\n"
          ]
        }
      ],
      "source": [
        "weekdays = (\"MONDAY\", \"TUESDAY\", \"WEDNESDAY\", \"THURSDAY\", \"FRIDAY\")\n",
        "weekends = (\"SATURDAY\", \"SUNDAY\")\n",
        "\n",
        "day = input(\"Please enter name of the day: \").upper()\n",
        "if day in weekdays:\n",
        "  print(\"It is weekday\")\n",
        "elif day in weekends:\n",
        "  print(\"It is weekend\")\n",
        "else:\n",
        "  print(\"it is not day of the week\")"
      ]
    },
    {
      "cell_type": "code",
      "source": [
        "temp = int(input())\n",
        "\n",
        "if temp < -50 or temp > 50:\n",
        "  print(\"Extreme\")\n",
        "elif -50 <= temp < -20:\n",
        "  print(\"Very Cold\")\n",
        "elif -20 <= temp < 0:\n",
        "  print(\"Cold\")\n",
        "elif 0 <= temp < 20:\n",
        "  print(\"Moderate\")\n",
        "elif 20 <= temp < 35:\n",
        "  print(\"Warm\")\n",
        "elif 35 <= temp <= 50:\n",
        "  print(\"Hot\")\n",
        "\n",
        "if temp < 0:\n",
        "  print(\"Warning: Potential frostbite.\")\n",
        "if temp > 35:\n",
        "  print(\"Warning: Potential heatstroke.\")\n"
      ],
      "metadata": {
        "colab": {
          "base_uri": "https://localhost:8080/"
        },
        "id": "grs4O9OtXidK",
        "outputId": "6db45e25-8061-46c7-e449-cf3fae4530fe"
      },
      "execution_count": null,
      "outputs": [
        {
          "output_type": "stream",
          "name": "stdout",
          "text": [
            "-51\n",
            "Extreme\n",
            "Warning: Potential frostbite.\n"
          ]
        }
      ]
    },
    {
      "cell_type": "code",
      "source": [
        "digits = ('0','1','2','3','4','5','6','7','8','9')\n",
        "username = input(\"Username: \")\n",
        "password = input(\"Password: \")\n",
        "\n",
        "if len(username) >= 5:\n",
        "  if len(password) >= 8 and any(x for x in password if x in digits):\n",
        "    print(\"Login successfull\")\n",
        "  else:\n",
        "    print(\"Password is invalid\")\n",
        "\n",
        "else:\n",
        "  print(\"Username is too short\")"
      ],
      "metadata": {
        "colab": {
          "base_uri": "https://localhost:8080/"
        },
        "id": "1WEBZjP1cD0Q",
        "outputId": "8a9c080f-98ea-441b-bdd1-7e6de7edff3a"
      },
      "execution_count": null,
      "outputs": [
        {
          "output_type": "stream",
          "name": "stdout",
          "text": [
            "Username: testa\n",
            "Password: yfhbv6e\n",
            "Password is invalid\n"
          ]
        }
      ]
    },
    {
      "cell_type": "code",
      "source": [
        "total_price = int(input())\n",
        "if total_price > 1000:\n",
        "  total_price = total_price - (total_price/15)\n",
        "elif total_price > 500:\n",
        "  total_price = total_price - (total_price/10)\n",
        "elif total_price < 100:\n",
        "  total_price += 10\n",
        "print(total_price)"
      ],
      "metadata": {
        "colab": {
          "base_uri": "https://localhost:8080/"
        },
        "id": "foXObVs4kVKG",
        "outputId": "2543cc0f-31de-4328-d596-697c4a0a7932"
      },
      "execution_count": null,
      "outputs": [
        {
          "output_type": "stream",
          "name": "stdout",
          "text": [
            "800\n",
            "720.0\n"
          ]
        }
      ]
    },
    {
      "cell_type": "code",
      "source": [
        "grade = int(input(\"Please enter your numerical grade: \"))\n",
        "final_grade = ''\n",
        "\n",
        "if grade >= 90 and grade <= 100:\n",
        "  final_grade = 'A'\n",
        "elif grade >= 80 and grade <= 89:\n",
        "  final_grade = 'B'\n",
        "elif grade >= 70 and grade <= 79:\n",
        "  final_grade = 'C'\n",
        "elif grade >= 60 and grade <= 69:\n",
        "  final_grade = 'D'\n",
        "elif grade >= 0 and grade < 60:\n",
        "  final_grade = 'F'\n",
        "else:\n",
        "  final_grade = \"Invalid grade\"\n",
        "print(final_grade)"
      ],
      "metadata": {
        "colab": {
          "base_uri": "https://localhost:8080/"
        },
        "id": "5hSL7LG7lZ1E",
        "outputId": "e1973f17-a846-4461-9ab7-d071b143da1b"
      },
      "execution_count": null,
      "outputs": [
        {
          "output_type": "stream",
          "name": "stdout",
          "text": [
            "Please enter your numerical grade: -1\n",
            "Invalid grade\n"
          ]
        }
      ]
    },
    {
      "cell_type": "code",
      "source": [
        "#\"Infant\" (0-1 years)\n",
        "#\"Child\" (2-12 years)\n",
        "#\"Teenager\" (13-19 years)\n",
        "#\"Adult\" (20-64 years)\n",
        "#\"Senior\" (65 years and older)\n",
        "age = int(input())\n",
        "\n",
        "if age >= 0 and age <= 1:\n",
        "  print(\"Infant\")\n",
        "elif age >= 2 and age <= 12:\n",
        "  print(\"Child\")\n",
        "elif age >= 13 and age <= 19:\n",
        "  print(\"Teenager\")\n",
        "elif age >=20 and age <= 64:\n",
        "  print(\"Adult\")\n",
        "else:\n",
        "  print(\"Senior\")"
      ],
      "metadata": {
        "colab": {
          "base_uri": "https://localhost:8080/"
        },
        "id": "AS_7kPPzmO7h",
        "outputId": "fa1106af-1458-4642-8154-b2c2097c5caf"
      },
      "execution_count": null,
      "outputs": [
        {
          "output_type": "stream",
          "name": "stdout",
          "text": [
            "5\n",
            "Child\n"
          ]
        }
      ]
    }
  ]
}